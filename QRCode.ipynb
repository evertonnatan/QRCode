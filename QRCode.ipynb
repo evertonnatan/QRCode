{
 "cells": [
  {
   "cell_type": "code",
   "execution_count": 3,
   "metadata": {},
   "outputs": [
    {
     "name": "stdout",
     "output_type": "stream",
     "text": [
      "Collecting segno\n",
      "  Using cached segno-1.5.2-py2.py3-none-any.whl (83 kB)\n",
      "Installing collected packages: segno\n",
      "Successfully installed segno-1.5.2\n",
      "Note: you may need to restart the kernel to use updated packages.\n"
     ]
    }
   ],
   "source": [
    "pip install segno"
   ]
  },
  {
   "cell_type": "code",
   "execution_count": 4,
   "metadata": {},
   "outputs": [],
   "source": [
    "import segno"
   ]
  },
  {
   "cell_type": "code",
   "execution_count": 7,
   "metadata": {},
   "outputs": [],
   "source": [
    "aud_01 = segno.make('https://teams.microsoft.com/l/meetup-join/19%3ameeting_YzBjNWRkMzMtZGZlYi00ZDEyLTk4NjEtMWNhMDM2MDAyYzcx%40thread.v2/0?context=%7b%22Tid%22%3a%223590422d-8e59-4036-9245-d6edd8cc0f7a%22%2c%22Oid%22%3a%22c9c39212-e4b6-4a82-a170-c8e336a72aaa%22%7d')\n",
    "aud_01.save('Aud_01.png', dark=\"black\", light=\"#FFFF\", scale=5)"
   ]
  }
 ],
 "metadata": {
  "kernelspec": {
   "display_name": ".venv",
   "language": "python",
   "name": "python3"
  },
  "language_info": {
   "codemirror_mode": {
    "name": "ipython",
    "version": 3
   },
   "file_extension": ".py",
   "mimetype": "text/x-python",
   "name": "python",
   "nbconvert_exporter": "python",
   "pygments_lexer": "ipython3",
   "version": "3.11.3"
  },
  "orig_nbformat": 4
 },
 "nbformat": 4,
 "nbformat_minor": 2
}
